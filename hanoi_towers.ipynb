{
 "cells": [
  {
   "cell_type": "code",
   "execution_count": null,
   "metadata": {},
   "outputs": [],
   "source": [
    "'''\n",
    "汉诺塔问题源于印度一个古老传说。对于原始的汉诺塔游戏，可供玩家操作的空间一共只有三根柱子，导致按原传说的要求，需要超过1.8*10^19步才能\n",
    "解开。通过新增柱子可以大幅度地减少需要的步数。此处要求在给出指定的盘数，柱子数量为4（即限制为4根柱子）且不改变原有传说的其他规则的限制下，\n",
    "找出完成迁移的最小步骤数。\n",
    "输入格式:\n",
    "一个非负整数M，M代表盘数，M<=1000。\n",
    "输出格式：\n",
    "一个非负整数，表示完成迁移的最小步骤数。\n",
    "输入样例：\n",
    "3\n",
    "输出样例：\n",
    "5\n",
    "时间限制：500ms内存限制：32000kb\n",
    "'''"
   ]
  },
  {
   "cell_type": "code",
   "execution_count": null,
   "metadata": {},
   "outputs": [],
   "source": [
    "global dic\n",
    "dic={}\n",
    "#用字典存储算过的，免除重复计算\n",
    "def plate_column4(m):\n",
    "    #返回两个参数，第一个是移动m个盘子的最小步数。第二个是最小步数时对应的方法是先把上面几个盘子作为整体移动\n",
    "    if m==0:\n",
    "        z=(0,0)\n",
    "    if m==1:\n",
    "        z=(1,1)\n",
    "    if m==2:\n",
    "        z=(3,1)\n",
    "    if m>2:\n",
    "        if m-1 not in dic:\n",
    "            dic[m-1]=plate_column4(m-1)\n",
    "        num=dic[m-1][1]\n",
    "        if num+1 not in dic:\n",
    "            dic[num+1]=plate_column4(num+1)\n",
    "        result_num=dic[m-1][0]+2**(m-num)-2**(m-num-1)#增加的一个盘子加在下半部分\n",
    "        result_num1=dic[num+1][0]*2+2**(m-1-num)-1 #增加的一个盘子加在了上半部分\n",
    "        #print(result_num,result_num1)\n",
    "        if result_num<=result_num1:\n",
    "            z=(result_num,num)\n",
    "        else:\n",
    "            z=(result_num1,num+1)\n",
    "    dic[m]=z\n",
    "    return z\n",
    "\n",
    "m=eval(input())\n",
    "print(plate_column4(m)[0])\n"
   ]
  },
  {
   "cell_type": "code",
   "execution_count": null,
   "metadata": {},
   "outputs": [],
   "source": []
  }
 ],
 "metadata": {
  "kernelspec": {
   "display_name": "Python 3",
   "language": "python",
   "name": "python3"
  },
  "language_info": {
   "codemirror_mode": {
    "name": "ipython",
    "version": 3
   },
   "file_extension": ".py",
   "mimetype": "text/x-python",
   "name": "python",
   "nbconvert_exporter": "python",
   "pygments_lexer": "ipython3",
   "version": "3.7.0"
  }
 },
 "nbformat": 4,
 "nbformat_minor": 4
}
