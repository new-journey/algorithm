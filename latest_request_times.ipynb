{
 "cells": [
  {
   "cell_type": "code",
   "execution_count": null,
   "metadata": {},
   "outputs": [],
   "source": [
    "'''\n",
    "计算每个事件发生之时，往前算10000毫秒内有多少个事件发生，包含当事件；也即对于列表中的每个元素k，\n",
    "算出整个列表中有多少个元素介于k-10000和k（两端均含）之间。\n",
    "输入格式:\n",
    "一个已排序列表mylist，所有元素为非负整数，记录各个请求的发生时间，单位为毫秒。\n",
    "输出格式：\n",
    "一个与mylist等长的列表。\n",
    "输入样例：\n",
    "[0,10,100,1000,10000,20000,100000]\n",
    "输出样例：\n",
    "[1,2,3,4,5,2,1]\n",
    "'''"
   ]
  },
  {
   "cell_type": "code",
   "execution_count": 3,
   "metadata": {},
   "outputs": [],
   "source": [
    "class Queue:\n",
    "    def __init__(self):\n",
    "        self.items=[]\n",
    "        self.size=len(self.items)\n",
    "    def isEmpty(self):\n",
    "        return self.items==[]\n",
    "    def enqueue(self,item):\n",
    "        self.size+=1\n",
    "        return self.items.append(item)\n",
    "    def dequeue(self):\n",
    "        self.size-=1\n",
    "        return self.items.pop(0)\n",
    "    def peek(self):\n",
    "        return self.items[0]\n",
    "\n",
    "def request_times(mylist):\n",
    "    target=mylist[0]\n",
    "    q=Queue()\n",
    "    result=[]\n",
    "    while mylist!=[]:    \n",
    "        i=0\n",
    "        while mylist!=[] and mylist[0]==target:\n",
    "            i+=1\n",
    "            q.enqueue(mylist.pop(0))\n",
    "        while q.peek()<target-10000:\n",
    "            q.dequeue()\n",
    "        [result.append(q.size) for j in range(i)]\n",
    "        if mylist!=[]:\n",
    "            target=mylist[0]\n",
    "    return result\n",
    "\n",
    "mylist=eval(input())\n",
    "print(request_times(mylist))"
   ]
  }
 ],
 "metadata": {
  "kernelspec": {
   "display_name": "Python 3",
   "language": "python",
   "name": "python3"
  },
  "language_info": {
   "codemirror_mode": {
    "name": "ipython",
    "version": 3
   },
   "file_extension": ".py",
   "mimetype": "text/x-python",
   "name": "python",
   "nbconvert_exporter": "python",
   "pygments_lexer": "ipython3",
   "version": "3.7.0"
  }
 },
 "nbformat": 4,
 "nbformat_minor": 4
}
