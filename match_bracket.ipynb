{
 "cells": [
  {
   "cell_type": "code",
   "execution_count": 1,
   "metadata": {},
   "outputs": [],
   "source": [
    "from pythonds.basic.stack import Stack\n",
    "def match_bracket(strr):\n",
    "    s=Stack()\n",
    "    left='([{'\n",
    "    right=')]}'\n",
    "    for i in strr:\n",
    "        if i in left:\n",
    "            s.push(i)\n",
    "        elif i in right and s.isEmpty():\n",
    "            return 'NOT MATCH'\n",
    "        elif i in right and not s.isEmpty():\n",
    "            if left.index(s.pop())!=right.index(i):\n",
    "                return 'NOT MATCH'\n",
    "    if s.isEmpty():\n",
    "        return 'MATCH'\n",
    "    else:\n",
    "        return 'NOT MATCH'"
   ]
  },
  {
   "cell_type": "code",
   "execution_count": 2,
   "metadata": {},
   "outputs": [
    {
     "data": {
      "text/plain": [
       "'MATCH'"
      ]
     },
     "execution_count": 2,
     "metadata": {},
     "output_type": "execute_result"
    }
   ],
   "source": [
    "strr='88[({325})]8'\n",
    "match_bracket(strr)"
   ]
  },
  {
   "cell_type": "code",
   "execution_count": 3,
   "metadata": {},
   "outputs": [
    {
     "data": {
      "text/plain": [
       "'NOT MATCH'"
      ]
     },
     "execution_count": 3,
     "metadata": {},
     "output_type": "execute_result"
    }
   ],
   "source": [
    "strr='88[({325})])8'\n",
    "match_bracket(strr)"
   ]
  },
  {
   "cell_type": "code",
   "execution_count": 4,
   "metadata": {},
   "outputs": [
    {
     "data": {
      "text/plain": [
       "'NOT MATCH'"
      ]
     },
     "execution_count": 4,
     "metadata": {},
     "output_type": "execute_result"
    }
   ],
   "source": [
    "strr='88([({325})]8'\n",
    "match_bracket(strr)"
   ]
  },
  {
   "cell_type": "code",
   "execution_count": null,
   "metadata": {},
   "outputs": [],
   "source": []
  }
 ],
 "metadata": {
  "kernelspec": {
   "display_name": "Python 3",
   "language": "python",
   "name": "python3"
  },
  "language_info": {
   "codemirror_mode": {
    "name": "ipython",
    "version": 3
   },
   "file_extension": ".py",
   "mimetype": "text/x-python",
   "name": "python",
   "nbconvert_exporter": "python",
   "pygments_lexer": "ipython3",
   "version": "3.7.0"
  }
 },
 "nbformat": 4,
 "nbformat_minor": 4
}
