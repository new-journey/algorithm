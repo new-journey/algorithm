{
 "cells": [
  {
   "cell_type": "code",
   "execution_count": 1,
   "metadata": {},
   "outputs": [],
   "source": [
    "from pythonds.basic.stack import Stack\n",
    "#表达式中缀转后缀\n",
    "def mid_to_tail(strr):\n",
    "    operator={'(':1,')':1,'*':2,'/':2,'**':2,'%':2,'+':3,'-':3}\n",
    "    num='0123456789abcdef'\n",
    "    s=Stack()\n",
    "    lst=[]\n",
    "    for i in strr:\n",
    "        if i in num:\n",
    "            lst.append(i)\n",
    "        elif s.isEmpty():\n",
    "            s.push(i)\n",
    "        elif i==')':\n",
    "            while s.peek()!='(':\n",
    "                lst.append(s.pop())\n",
    "            if s.peek()=='(':\n",
    "                s.pop()\n",
    "        elif s.peek()=='(' or operator[i]<=operator[s.peek()]:\n",
    "             s.push(i)\n",
    "        else:\n",
    "            lst.append(s.pop())\n",
    "   \n",
    "    while not s.isEmpty():\n",
    "        lst.append(s.pop())\n",
    "    return ''.join(lst)"
   ]
  },
  {
   "cell_type": "code",
   "execution_count": 2,
   "metadata": {},
   "outputs": [
    {
     "data": {
      "text/plain": [
       "'43+28+2/*'"
      ]
     },
     "execution_count": 2,
     "metadata": {},
     "output_type": "execute_result"
    }
   ],
   "source": [
    "strr='(4+3)*((2+8)/2)'\n",
    "mid_to_tail(strr)"
   ]
  },
  {
   "cell_type": "code",
   "execution_count": 3,
   "metadata": {},
   "outputs": [
    {
     "data": {
      "text/plain": [
       "'4328+2/*+'"
      ]
     },
     "execution_count": 3,
     "metadata": {},
     "output_type": "execute_result"
    }
   ],
   "source": [
    "strr='4+3*((2+8)/2)'\n",
    "mid_to_tail(strr)"
   ]
  },
  {
   "cell_type": "code",
   "execution_count": 4,
   "metadata": {},
   "outputs": [],
   "source": [
    "#后缀表达式求值\n",
    "def tail_cacul(strr):\n",
    "    num='0123456789abcdef'\n",
    "    s=Stack()\n",
    "    for i in strr:\n",
    "        if i in num:\n",
    "            s.push(int(i))\n",
    "        else:\n",
    "            num2=s.pop()\n",
    "            num1=s.pop()\n",
    "            if i=='+':\n",
    "                s.push(num1+num2)\n",
    "            if i=='-':\n",
    "                s.push(num1-num2)\n",
    "            if i=='*':\n",
    "                s.push(num1*num2)\n",
    "            if i=='/':\n",
    "                s.push(num1/num2)\n",
    "    return s.peek()        "
   ]
  },
  {
   "cell_type": "code",
   "execution_count": 5,
   "metadata": {},
   "outputs": [
    {
     "data": {
      "text/plain": [
       "19.0"
      ]
     },
     "execution_count": 5,
     "metadata": {},
     "output_type": "execute_result"
    }
   ],
   "source": [
    "strr='4328+2/*+'\n",
    "tail_cacul(strr)"
   ]
  },
  {
   "cell_type": "code",
   "execution_count": 6,
   "metadata": {},
   "outputs": [
    {
     "data": {
      "text/plain": [
       "35.0"
      ]
     },
     "execution_count": 6,
     "metadata": {},
     "output_type": "execute_result"
    }
   ],
   "source": [
    "strr='43+28+2/*'\n",
    "tail_cacul(strr)"
   ]
  },
  {
   "cell_type": "code",
   "execution_count": null,
   "metadata": {},
   "outputs": [],
   "source": []
  }
 ],
 "metadata": {
  "kernelspec": {
   "display_name": "Python 3",
   "language": "python",
   "name": "python3"
  },
  "language_info": {
   "codemirror_mode": {
    "name": "ipython",
    "version": 3
   },
   "file_extension": ".py",
   "mimetype": "text/x-python",
   "name": "python",
   "nbconvert_exporter": "python",
   "pygments_lexer": "ipython3",
   "version": "3.7.0"
  }
 },
 "nbformat": 4,
 "nbformat_minor": 4
}
