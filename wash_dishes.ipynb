{
 "cells": [
  {
   "cell_type": "code",
   "execution_count": 1,
   "metadata": {},
   "outputs": [
    {
     "name": "stdout",
     "output_type": "stream",
     "text": [
      "1487965320\n",
      "Yes\n"
     ]
    }
   ],
   "source": [
    "class Stack:\n",
    "    def __init__(self):\n",
    "        self.items = []\n",
    "\n",
    "    def isEmpty(self):\n",
    "        return self.items == []\n",
    "\n",
    "    def push(self, item):\n",
    "        self.items.append(item)\n",
    "\n",
    "    def pop(self):\n",
    "        return self.items.pop()\n",
    "\n",
    "    def peek(self):\n",
    "        return self.items[len(self.items)-1]\n",
    "\n",
    "    def size(self):\n",
    "        return len(self.items)\n",
    "\n",
    "def wash_dishes(strr):\n",
    "    s=Stack()\n",
    "    s.push(int(strr[0]))\n",
    "    lst=[]\n",
    "    flag='Yes'\n",
    "    for i in strr[1:]:\n",
    "        i=int(i)\n",
    "        if i<(s.peek()):    \n",
    "            s.push(i)\n",
    "        else:\n",
    "            if len(lst)==0 or s.peek()>lst[-1]:\n",
    "                while not s.isEmpty():\n",
    "                    lst.append(s.pop())\n",
    "                s.push(i)\n",
    "            else:\n",
    "                flag= 'No'\n",
    "                break\n",
    "    return flag\n",
    "\n",
    "strr=input()\n",
    "print(wash_dishes(strr))\n",
    "            \n",
    "        \n",
    "            \n",
    "        "
   ]
  },
  {
   "cell_type": "code",
   "execution_count": null,
   "metadata": {},
   "outputs": [],
   "source": []
  }
 ],
 "metadata": {
  "kernelspec": {
   "display_name": "Python 3",
   "language": "python",
   "name": "python3"
  },
  "language_info": {
   "codemirror_mode": {
    "name": "ipython",
    "version": 3
   },
   "file_extension": ".py",
   "mimetype": "text/x-python",
   "name": "python",
   "nbconvert_exporter": "python",
   "pygments_lexer": "ipython3",
   "version": "3.7.0"
  }
 },
 "nbformat": 4,
 "nbformat_minor": 4
}
