{
 "cells": [
  {
   "cell_type": "code",
   "execution_count": 1,
   "metadata": {},
   "outputs": [],
   "source": [
    "from pythonds.basic.stack import Stack"
   ]
  },
  {
   "cell_type": "code",
   "execution_count": 2,
   "metadata": {},
   "outputs": [],
   "source": [
    "#将一个10进制数转为任意N进制  \n",
    "def data10_transfer(num,n):\n",
    "    s=Stack()\n",
    "    nstr='0123456789ABCDEF'\n",
    "    num=int(num)\n",
    "    while num>0:\n",
    "        rem=num%n\n",
    "        num=num//n\n",
    "        s.push(rem)\n",
    "    lst=[]\n",
    "    while not s.isEmpty():\n",
    "        lst.append(nstr[s.pop()])\n",
    "    return ''.join(lst)            "
   ]
  },
  {
   "cell_type": "code",
   "execution_count": 3,
   "metadata": {},
   "outputs": [],
   "source": [
    "#将任意n进制转为10进制\n",
    "def data_transfer10(num,n):\n",
    "    datalst=' '.join(num).split()[::-1]\n",
    "    nstr='0123456789ABCDEF'\n",
    "    da10=[n**(datalst.index(x))*(nstr.index(x)) for x in datalst]\n",
    "    return sum(da10)"
   ]
  },
  {
   "cell_type": "code",
   "execution_count": 4,
   "metadata": {},
   "outputs": [],
   "source": [
    "#将任意m进制转换为n进制\n",
    "def data_transfer(num,m,n):\n",
    "    if m!=10:\n",
    "        num=data_transfer10(num,m)\n",
    "    if n!=10:\n",
    "        num=data10_transfer(num,n)\n",
    "    return num"
   ]
  },
  {
   "cell_type": "code",
   "execution_count": 5,
   "metadata": {},
   "outputs": [
    {
     "data": {
      "text/plain": [
       "'341'"
      ]
     },
     "execution_count": 5,
     "metadata": {},
     "output_type": "execute_result"
    }
   ],
   "source": [
    "data_transfer('E1',16,8)"
   ]
  },
  {
   "cell_type": "code",
   "execution_count": 6,
   "metadata": {},
   "outputs": [
    {
     "data": {
      "text/plain": [
       "'1570'"
      ]
     },
     "execution_count": 6,
     "metadata": {},
     "output_type": "execute_result"
    }
   ],
   "source": [
    "data_transfer('888',10,8)"
   ]
  }
 ],
 "metadata": {
  "kernelspec": {
   "display_name": "Python 3",
   "language": "python",
   "name": "python3"
  },
  "language_info": {
   "codemirror_mode": {
    "name": "ipython",
    "version": 3
   },
   "file_extension": ".py",
   "mimetype": "text/x-python",
   "name": "python",
   "nbconvert_exporter": "python",
   "pygments_lexer": "ipython3",
   "version": "3.7.0"
  }
 },
 "nbformat": 4,
 "nbformat_minor": 4
}
